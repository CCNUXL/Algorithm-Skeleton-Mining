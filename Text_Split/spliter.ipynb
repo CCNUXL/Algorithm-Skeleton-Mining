{
 "cells": [
  {
   "cell_type": "markdown",
   "metadata": {},
   "source": [
    "# Langchain"
   ]
  },
  {
   "cell_type": "markdown",
   "metadata": {},
   "source": [
    "参数说明\n",
    "\n",
    "length_function: 确定如何计算块的长度（简单计算字符的数量）（可在此处传递标记计数函数）\n",
    "\n",
    "chunk_size: 设置块的最大大小（大小根据length_function参数测量）\n",
    "\n",
    "chunk_overlap: 设置块之间的最大重叠（保证上下文连续性）\n",
    "\n",
    "add_start_index: bool值, 是否在元数据中包含每个块在原始文档中的起始位置（跟踪块在原始文档中的来源）"
   ]
  },
  {
   "cell_type": "code",
   "execution_count": 11,
   "metadata": {},
   "outputs": [],
   "source": [
    "from langchain.document_loaders import PyPDFLoader\n",
    "from langchain.text_splitter import RecursiveCharacterTextSplitter\n",
    "# RecursiveCharacterTextSplitter用于处理一般文本，有较强的适应性，分割原则[\"\\n\\n\", \"\\n\", \" \", \"\"]"
   ]
  },
  {
   "cell_type": "code",
   "execution_count": 14,
   "metadata": {},
   "outputs": [
    {
     "name": "stdout",
     "output_type": "stream",
     "text": [
      "加载完毕，共加载19页PDF文件\n"
     ]
    }
   ],
   "source": [
    "# 用PyPDFLoader去加载和解析PDF文件\n",
    "pdf_path = \"/Users/xueliang/Desktop/硕士毕业论文/毕业论文参考文献/Distilling Model/2212.00193.pdf\"\n",
    "loader =  PyPDFLoader(pdf_path)\n",
    "pages = loader.load_and_split()\n",
    "print(f\"加载完毕，共加载{len(pages)}页PDF文件\")"
   ]
  },
  {
   "cell_type": "code",
   "execution_count": 18,
   "metadata": {},
   "outputs": [],
   "source": [
    "text_splitter = RecursiveCharacterTextSplitter(\n",
    "    chunk_size = 200,\n",
    "    chunk_overlap = 10,\n",
    "    length_function = len\n",
    ")"
   ]
  },
  {
   "cell_type": "code",
   "execution_count": 25,
   "metadata": {},
   "outputs": [
    {
     "name": "stdout",
     "output_type": "stream",
     "text": [
      "文章共切分为306段\n",
      "The average cost of a US Boeing 737 plane is 1.6 million dollars.\n",
      "Wonder Woman (2017 ﬁlm) grossed over 800 million dollars at the box ofﬁce.\n",
      "Yes, 800 is larger than 1.6.\n",
      "The ﬁnal answer is YES.\n"
     ]
    }
   ],
   "source": [
    "texts = text_splitter.split_documents(pages)\n",
    "print(f\"文章共切分为{len(texts)}段\")\n",
    "# for i in range(0, len(texts)):\n",
    "#     print(f\"段{i}\")\n",
    "#     print(texts[i].page_content)\n",
    "#     if i == 3:\n",
    "#         break\n",
    "print(texts[304].page_content)"
   ]
  }
 ],
 "metadata": {
  "kernelspec": {
   "display_name": "Python 3.9.16 ('Python39')",
   "language": "python",
   "name": "python3"
  },
  "language_info": {
   "codemirror_mode": {
    "name": "ipython",
    "version": 3
   },
   "file_extension": ".py",
   "mimetype": "text/x-python",
   "name": "python",
   "nbconvert_exporter": "python",
   "pygments_lexer": "ipython3",
   "version": "3.9.16"
  },
  "orig_nbformat": 4,
  "vscode": {
   "interpreter": {
    "hash": "9f3cb61da858f0d9929170d3c090a90acb0b72bed002ae6c6bf5236a6628424a"
   }
  }
 },
 "nbformat": 4,
 "nbformat_minor": 2
}
