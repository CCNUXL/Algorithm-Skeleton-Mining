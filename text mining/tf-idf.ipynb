{
 "cells": [
  {
   "cell_type": "markdown",
   "metadata": {},
   "source": [
    "# TF-IDF\n",
    "词在整个语料库中的普遍重要性。TF-IDF越高，表示词对于该文档越重要。"
   ]
  },
  {
   "cell_type": "code",
   "execution_count": 1,
   "metadata": {},
   "outputs": [],
   "source": [
    "import math"
   ]
  },
  {
   "cell_type": "code",
   "execution_count": 2,
   "metadata": {},
   "outputs": [],
   "source": [
    "# 文档集合\n",
    "documents = [\n",
    "    \"This is the first document.\",\n",
    "    \"This document is the second document.\",\n",
    "    \"And this is the third one.\",\n",
    "    \"Is this the first document?\",\n",
    "]"
   ]
  },
  {
   "cell_type": "code",
   "execution_count": 3,
   "metadata": {},
   "outputs": [],
   "source": [
    "# 分词并构建词汇表\n",
    "word_set = set()\n",
    "for doc in documents:\n",
    "    words = doc.lower().split()\n",
    "    word_set.update(words)\n",
    "\n",
    "word_list = list(word_set)\n",
    "word_list.sort()"
   ]
  },
  {
   "cell_type": "code",
   "execution_count": 4,
   "metadata": {},
   "outputs": [],
   "source": [
    "# 构建文档-词频矩阵\n",
    "word_doc_freq = {word: 0 for word in word_list}\n",
    "for doc in documents:\n",
    "    words = doc.lower().split()\n",
    "    for word in set(words):\n",
    "        word_doc_freq[word] += 1"
   ]
  },
  {
   "cell_type": "code",
   "execution_count": 5,
   "metadata": {},
   "outputs": [],
   "source": [
    "# 计算TF和IDF\n",
    "tfidf_matrix = []\n",
    "num_docs = len(documents)\n",
    "for doc in documents:\n",
    "    words = doc.lower().split()\n",
    "    word_freq = {word: 0 for word in word_list}\n",
    "    for word in words:\n",
    "        word_freq[word] += 1\n",
    "    \n",
    "    tfidf_vector = []\n",
    "    for word in word_list:\n",
    "        # 计算TF\n",
    "        tf = word_freq[word] / len(words)\n",
    "        # 计算IDF\n",
    "        idf = math.log(num_docs / (1 + word_doc_freq[word]))\n",
    "        # 计算TF-IDF\n",
    "        tfidf = tf * idf\n",
    "        tfidf_vector.append(tfidf)\n",
    "    \n",
    "    tfidf_matrix.append(tfidf_vector)"
   ]
  },
  {
   "cell_type": "code",
   "execution_count": 6,
   "metadata": {},
   "outputs": [
    {
     "name": "stdout",
     "output_type": "stream",
     "text": [
      "Document 1 TF-IDF Vector: [0.0, 0.0, 0.05753641449035617, 0.0, 0.05753641449035617, -0.044628710262841945, 0.0, 0.0, -0.044628710262841945, 0.0, -0.044628710262841945]\n",
      "Document 2 TF-IDF Vector: [0.0, 0.11552453009332421, 0.04794701207529681, 0.0, 0.0, -0.03719059188570162, 0.0, 0.11552453009332421, -0.03719059188570162, 0.0, -0.03719059188570162]\n",
      "Document 3 TF-IDF Vector: [0.11552453009332421, 0.0, 0.0, 0.0, 0.0, -0.03719059188570162, 0.11552453009332421, 0.0, -0.03719059188570162, 0.11552453009332421, -0.03719059188570162]\n",
      "Document 4 TF-IDF Vector: [0.0, 0.0, 0.0, 0.13862943611198905, 0.05753641449035617, -0.044628710262841945, 0.0, 0.0, -0.044628710262841945, 0.0, -0.044628710262841945]\n"
     ]
    }
   ],
   "source": [
    "# 输出TF-IDF矩阵\n",
    "for i, doc_vector in enumerate(tfidf_matrix):\n",
    "    print(f\"Document {i+1} TF-IDF Vector: {doc_vector}\")\n"
   ]
  }
 ],
 "metadata": {
  "kernelspec": {
   "display_name": "base",
   "language": "python",
   "name": "python3"
  },
  "language_info": {
   "codemirror_mode": {
    "name": "ipython",
    "version": 3
   },
   "file_extension": ".py",
   "mimetype": "text/x-python",
   "name": "python",
   "nbconvert_exporter": "python",
   "pygments_lexer": "ipython3",
   "version": "3.11.5"
  }
 },
 "nbformat": 4,
 "nbformat_minor": 2
}
